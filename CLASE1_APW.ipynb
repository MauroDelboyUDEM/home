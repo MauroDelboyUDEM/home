{
 "cells": [
  {
   "cell_type": "markdown",
   "id": "da069d32",
   "metadata": {},
   "source": [
    "# Mi primera hoja de Python "
   ]
  },
  {
   "cell_type": "markdown",
   "id": "a30acaa2",
   "metadata": {},
   "source": [
    "## Nombre: Mauro Delboy"
   ]
  },
  {
   "cell_type": "markdown",
   "id": "98f4bd5c",
   "metadata": {},
   "source": [
    "#### Carrera: IGE - ISC"
   ]
  },
  {
   "cell_type": "code",
   "execution_count": 1,
   "id": "70686bd1",
   "metadata": {},
   "outputs": [
    {
     "name": "stdout",
     "output_type": "stream",
     "text": [
      "100\n"
     ]
    }
   ],
   "source": [
    "# Creando variables \n",
    "x =20\n",
    "y = 80 \n",
    "z = x+y\n",
    "print(z)"
   ]
  },
  {
   "cell_type": "code",
   "execution_count": 2,
   "id": "c23a569d",
   "metadata": {},
   "outputs": [
    {
     "data": {
      "text/plain": [
       "int"
      ]
     },
     "execution_count": 2,
     "metadata": {},
     "output_type": "execute_result"
    }
   ],
   "source": [
    "# ¿ Qué tipo de variable es x? \n",
    "# Datos de variable discreta: Int - Integer\n",
    "type(z)"
   ]
  },
  {
   "cell_type": "code",
   "execution_count": 4,
   "id": "3cdd80f9",
   "metadata": {},
   "outputs": [
    {
     "data": {
      "text/plain": [
       "float"
      ]
     },
     "execution_count": 4,
     "metadata": {},
     "output_type": "execute_result"
    }
   ],
   "source": [
    "# Datos de variable continua: float\n",
    "y=80.00\n",
    "type(y)"
   ]
  },
  {
   "cell_type": "code",
   "execution_count": 5,
   "id": "98b3ee12",
   "metadata": {},
   "outputs": [
    {
     "data": {
      "text/plain": [
       "str"
      ]
     },
     "execution_count": 5,
     "metadata": {},
     "output_type": "execute_result"
    }
   ],
   "source": [
    "# Datos de variable de cadena de texto: Str - string\n",
    "\n",
    "nombre = \"Mauro\"\n",
    "type(nombre)"
   ]
  },
  {
   "cell_type": "code",
   "execution_count": 6,
   "id": "80fdf3f2",
   "metadata": {},
   "outputs": [
    {
     "data": {
      "text/plain": [
       "bool"
      ]
     },
     "execution_count": 6,
     "metadata": {},
     "output_type": "execute_result"
    }
   ],
   "source": [
    "# Datos de variable dicotómica: bool - Booleana\n",
    "var1 = True\n",
    "type(var1)"
   ]
  },
  {
   "cell_type": "markdown",
   "id": "7636875d",
   "metadata": {},
   "source": [
    "## Funciones Condicionales"
   ]
  },
  {
   "cell_type": "markdown",
   "id": "f3fc5015",
   "metadata": {},
   "source": [
    "### Función IF"
   ]
  },
  {
   "cell_type": "code",
   "execution_count": 1,
   "id": "d1bb36b5",
   "metadata": {},
   "outputs": [
    {
     "name": "stdout",
     "output_type": "stream",
     "text": [
      "Hola! Introduce un número: -98\n",
      "Fin de la instrucción\n"
     ]
    }
   ],
   "source": [
    "## Vamos a hacer que python interactúe con nosotros\n",
    "numero1= int(input(\"Hola! Introduce un número: \")) # Creación de variable\n",
    "if numero1>0:\n",
    "    print(\"El número insertado es positivo\")\n",
    "print(\"Fin de la instrucción\")\n",
    "    "
   ]
  },
  {
   "cell_type": "markdown",
   "id": "1ae7b315",
   "metadata": {},
   "source": [
    "## Función Else"
   ]
  },
  {
   "cell_type": "code",
   "execution_count": 6,
   "id": "895f6460",
   "metadata": {},
   "outputs": [
    {
     "name": "stdout",
     "output_type": "stream",
     "text": [
      "Hola! Introduce un número: 0\n",
      "El número insertado es negativo\n",
      "Fin de la instrucción\n"
     ]
    }
   ],
   "source": [
    "numero1= int(input(\"Hola! Introduce un número: \"))\n",
    "if numero1>0:\n",
    "    print(\"El número insertado es positivo\")\n",
    "else:\n",
    "    print(\"El número insertado es negativo\")\n",
    "print(\"Fin de la instrucción\")"
   ]
  },
  {
   "cell_type": "code",
   "execution_count": 9,
   "id": "f7b502b9",
   "metadata": {},
   "outputs": [
    {
     "name": "stdout",
     "output_type": "stream",
     "text": [
      "Hola! Introduce un número: -100\n",
      "El número insertado es negativo\n",
      "Fin de la instrucción\n"
     ]
    }
   ],
   "source": [
    "## Función elif\n",
    "numero1= int(input(\"Hola! Introduce un número: \"))\n",
    "if numero1>0:\n",
    "    print(\"El número insertado es positivo\")\n",
    "elif numero1==0: # '=' igualdad de creación '==' igualdad de condición \n",
    "    print(\"El número insertado es exactamente cero\")    \n",
    "else:\n",
    "    print(\"El número insertado es negativo\")\n",
    "print(\"Fin de la instrucción\")"
   ]
  },
  {
   "cell_type": "code",
   "execution_count": 13,
   "id": "a0092ae5",
   "metadata": {},
   "outputs": [
    {
     "name": "stdout",
     "output_type": "stream",
     "text": [
      "Introduzca su edad: 27\n",
      "Dato ingresado correctamente\n",
      "Puede ingresar a la discoteca\n"
     ]
    }
   ],
   "source": [
    "edad= int(input(\"Introduzca su edad: \"))\n",
    "if edad>0 and edad<99:\n",
    "    print(\"Dato ingresado correctamente\")\n",
    "    if edad>=18:\n",
    "        print(\"Puede ingresar a la discoteca\")\n",
    "    elif edad<18:\n",
    "        print(\"No puede ingresar a la discoteca\")\n",
    "else:\n",
    "    print(\"El dato ingresado es incorrecto\")\n",
    "        "
   ]
  },
  {
   "cell_type": "code",
   "execution_count": 15,
   "id": "27366f47",
   "metadata": {},
   "outputs": [
    {
     "name": "stdout",
     "output_type": "stream",
     "text": [
      "Introduzca el primer número: 3\n",
      "Introduzca el segundo número: 7\n",
      "Introduzca el tercer número: 6.54\n",
      "el número mayor es 7.0\n"
     ]
    }
   ],
   "source": [
    "'''\n",
    "Diseñar un código que pida tres números \n",
    "y muestre cual es el mayor\n",
    "'''\n",
    "num1= float(input(\"Introduzca el primer número: \"))\n",
    "num2= float(input(\"Introduzca el segundo número: \"))\n",
    "num3= float(input(\"Introduzca el tercer número: \"))\n",
    "\n",
    "if num1>num2 and num1>num3:\n",
    "    print(f\"el número mayor es {num1}\")\n",
    "elif num2>num3 and num2>num1:\n",
    "    print(f\"el número mayor es {num2}\")\n",
    "elif num3>num1 and num3>num2:\n",
    "    print(f\"el número mayor es {num3}\")"
   ]
  },
  {
   "cell_type": "markdown",
   "id": "89843d4e",
   "metadata": {},
   "source": [
    "### Comando 'or'"
   ]
  },
  {
   "cell_type": "code",
   "execution_count": 24,
   "id": "39a4dbff",
   "metadata": {},
   "outputs": [
    {
     "name": "stdout",
     "output_type": "stream",
     "text": [
      "Inserte un caracter: I\n",
      "El caracter insertado es una vocal\n"
     ]
    }
   ],
   "source": [
    "'''Diseñar un código que pida un caracter e indique si \n",
    "este caracter es una vocal o no lo es'''\n",
    "caracter=input('Inserte un caracter: ').lower() # Igualdad de creación\n",
    "\n",
    "if caracter=='a' or caracter=='e'or caracter=='i' or caracter=='o' or caracter=='u':\n",
    "    print(\"El caracter insertado es una vocal\")\n",
    "else: \n",
    "    print(\"El caracter insertado no es una vocal\")"
   ]
  },
  {
   "cell_type": "markdown",
   "id": "16677593",
   "metadata": {},
   "source": [
    "## Sentencias Cíclicas "
   ]
  },
  {
   "cell_type": "code",
   "execution_count": 25,
   "id": "5ba21f5a",
   "metadata": {},
   "outputs": [
    {
     "name": "stdout",
     "output_type": "stream",
     "text": [
      "Python es lo mejor\n",
      "Python es lo mejor\n",
      "Python es lo mejor\n",
      "Python es lo mejor\n",
      "Python es lo mejor\n"
     ]
    }
   ],
   "source": [
    "## Tipo For \n",
    "## Sentencia cíclica donde se tiene un iterador que repite una función de manera finita\n",
    "## Ejemplo\n",
    "## Generar una lista de mensajes en python \n",
    "\n",
    "for i in [1,2,3,4,5]:\n",
    "    print(\"Python es lo mejor\")\n"
   ]
  },
  {
   "cell_type": "code",
   "execution_count": 35,
   "id": "45b1974d",
   "metadata": {
    "scrolled": true
   },
   "outputs": [
    {
     "name": "stdout",
     "output_type": "stream",
     "text": [
      "El elemento es: 2\n",
      "El elemento es: 2.67\n",
      "El elemento es: 10\n",
      "El elemento es: Mauro\n",
      "El elemento es: 15.5\n"
     ]
    }
   ],
   "source": [
    "for i in [2,2.67,10,\"Mauro\",15.5]:\n",
    "    print(f\"El elemento es: {i}\")"
   ]
  },
  {
   "cell_type": "code",
   "execution_count": 40,
   "id": "70edae0f",
   "metadata": {},
   "outputs": [
    {
     "name": "stdout",
     "output_type": "stream",
     "text": [
      "Escriba un número: -100\n",
      "La raíz cuadrada de un número negativo es un valor imaginario\n",
      "Escriba un número: 10\n",
      "La raíz cuadrada de este número es: 3.1623\n"
     ]
    }
   ],
   "source": [
    "## Tipo While\n",
    "## Sentencia cíclica infinita \n",
    "import math\n",
    "numero = int(input(\"Escriba un número: \"))\n",
    "while numero<0:\n",
    "    print(\"La raíz cuadrada de un número negativo es un valor imaginario\")\n",
    "    numero = int(input(\"Escriba un número: \"))\n",
    "\n",
    "print(f\"La raíz cuadrada de este número es: {(math.sqrt(numero)):.4f}\")\n",
    "\n"
   ]
  }
 ],
 "metadata": {
  "kernelspec": {
   "display_name": "Python 3",
   "language": "python",
   "name": "python3"
  },
  "language_info": {
   "codemirror_mode": {
    "name": "ipython",
    "version": 3
   },
   "file_extension": ".py",
   "mimetype": "text/x-python",
   "name": "python",
   "nbconvert_exporter": "python",
   "pygments_lexer": "ipython3",
   "version": "3.8.8"
  }
 },
 "nbformat": 4,
 "nbformat_minor": 5
}
