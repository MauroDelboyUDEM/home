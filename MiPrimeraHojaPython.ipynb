{
  "nbformat": 4,
  "nbformat_minor": 0,
  "metadata": {
    "colab": {
      "provenance": []
    },
    "kernelspec": {
      "name": "python3",
      "display_name": "Python 3"
    },
    "language_info": {
      "name": "python"
    }
  },
  "cells": [
    {
      "cell_type": "code",
      "execution_count": null,
      "metadata": {
        "colab": {
          "base_uri": "https://localhost:8080/"
        },
        "id": "ZKmv90mdYREZ",
        "outputId": "20c0b405-fafd-4b66-a335-84aafd5c914b"
      },
      "outputs": [
        {
          "output_type": "execute_result",
          "data": {
            "text/plain": [
              "25"
            ]
          },
          "metadata": {},
          "execution_count": 3
        }
      ],
      "source": [
        "# Mi primer cuaderno de Python\n",
        "# Nombre:\n",
        "# Carrera:\n",
        "# Hashtag sirve para tomar apuntes\n",
        "# Mi primer comando en Python\n",
        "5*5\n"
      ]
    },
    {
      "cell_type": "code",
      "source": [
        "5+5"
      ],
      "metadata": {
        "colab": {
          "base_uri": "https://localhost:8080/"
        },
        "id": "cdc_1FDDbA3m",
        "outputId": "42a9bf68-6920-49b7-d114-d4a7b632c633"
      },
      "execution_count": null,
      "outputs": [
        {
          "output_type": "execute_result",
          "data": {
            "text/plain": [
              "10"
            ]
          },
          "metadata": {},
          "execution_count": 4
        }
      ]
    },
    {
      "cell_type": "code",
      "source": [
        "# Python solo toma en cuenta el . decimal, la coma es un separador de objetos\n",
        "2.5*6.25"
      ],
      "metadata": {
        "colab": {
          "base_uri": "https://localhost:8080/"
        },
        "id": "pv9ME2hdbAGm",
        "outputId": "43044e00-4558-48d0-b001-d1589d45ce88"
      },
      "execution_count": null,
      "outputs": [
        {
          "output_type": "execute_result",
          "data": {
            "text/plain": [
              "15.625"
            ]
          },
          "metadata": {},
          "execution_count": 5
        }
      ]
    },
    {
      "cell_type": "code",
      "source": [
        "# Elevar a potencias\n",
        "9**3"
      ],
      "metadata": {
        "colab": {
          "base_uri": "https://localhost:8080/"
        },
        "id": "BuGue5Sra7IH",
        "outputId": "79a92e1d-bfe2-404c-8ec4-a93b261428ca"
      },
      "execution_count": null,
      "outputs": [
        {
          "output_type": "execute_result",
          "data": {
            "text/plain": [
              "729"
            ]
          },
          "metadata": {},
          "execution_count": 6
        }
      ]
    },
    {
      "cell_type": "code",
      "source": [
        "# PAra división\n",
        "5.34/2.17"
      ],
      "metadata": {
        "colab": {
          "base_uri": "https://localhost:8080/"
        },
        "id": "olhltVS6cM2h",
        "outputId": "ef9af6de-b55b-40c6-8210-ab94576ae9e5"
      },
      "execution_count": null,
      "outputs": [
        {
          "output_type": "execute_result",
          "data": {
            "text/plain": [
              "2.460829493087558"
            ]
          },
          "metadata": {},
          "execution_count": 7
        }
      ]
    },
    {
      "cell_type": "code",
      "source": [
        "# Crear variables\n",
        "x = 25\n",
        "numero_1 = 40 #el nombre de la variable no contenga espacios en blanco"
      ],
      "metadata": {
        "id": "FCpglRrEceI1"
      },
      "execution_count": null,
      "outputs": []
    },
    {
      "cell_type": "code",
      "source": [
        "z = x + numero_1\n",
        "print(\"El resultado de esta variable es: \", z)"
      ],
      "metadata": {
        "colab": {
          "base_uri": "https://localhost:8080/"
        },
        "id": "nxY3fkXYdXb_",
        "outputId": "3e875401-4a88-4561-a749-9247a7a8ec21"
      },
      "execution_count": null,
      "outputs": [
        {
          "output_type": "stream",
          "name": "stdout",
          "text": [
            "El resultado de esta variable es:  65\n"
          ]
        }
      ]
    },
    {
      "cell_type": "code",
      "source": [],
      "metadata": {
        "id": "__9vgpMMegTQ"
      },
      "execution_count": null,
      "outputs": []
    },
    {
      "cell_type": "code",
      "source": [
        "print(\"Hola Mundo\")"
      ],
      "metadata": {
        "colab": {
          "base_uri": "https://localhost:8080/"
        },
        "id": "0_QzMN9IeMGq",
        "outputId": "7f74bbaf-742e-4e61-f606-a7be68d0523b"
      },
      "execution_count": null,
      "outputs": [
        {
          "output_type": "stream",
          "name": "stdout",
          "text": [
            "Hola Mundo\n"
          ]
        }
      ]
    },
    {
      "cell_type": "code",
      "source": [
        "# Python es un lenguaje orientado a objetos"
      ],
      "metadata": {
        "id": "1yYcYf4Geil_"
      },
      "execution_count": null,
      "outputs": []
    }
  ]
}